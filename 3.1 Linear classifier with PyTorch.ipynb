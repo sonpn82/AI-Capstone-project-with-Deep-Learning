{
    "cells": [
        {
            "cell_type": "markdown",
            "source": [
                "# IBM Developer Skills Network"
            ],
            "metadata": {}
        },
        {
            "cell_type": "markdown",
            "source": [
                "# Linear classifier with PyTorch"
            ],
            "metadata": {}
        },
        {
            "cell_type": "code",
            "execution_count": 1,
            "source": [
                "from PIL import Image\r\n",
                "import matplotlib.pyplot as plt\r\n",
                "import os\r\n",
                "import glob\r\n",
                "import torch\r\n",
                "from torch.utils.data import Dataset, DataLoader\r\n",
                "import torchvision.transforms as transforms\r\n",
                "import torch.nn as nn\r\n",
                "from torch import optim"
            ],
            "outputs": [],
            "metadata": {}
        },
        {
            "cell_type": "markdown",
            "source": [
                "# Dataset Class"
            ],
            "metadata": {}
        },
        {
            "cell_type": "code",
            "execution_count": 2,
            "source": [
                "class Dataset(Dataset):\r\n",
                "\r\n",
                "    # Constructor\r\n",
                "    def __init__(self, transform=None, train=True):\r\n",
                "        directory = r'G:\\Google Drive\\My learning courses\\AI Capstone project with Deep Learning\\resources\\data'\r\n",
                "        positive = 'Positive'\r\n",
                "        negative = 'Negative'\r\n",
                "\r\n",
                "        positive_file_path = os.path.join(directory, positive)\r\n",
                "        negative_file_path = os.path.join(directory, negative)\r\n",
                "\r\n",
                "        positive_files=[os.path.join(positive_file_path,file) for file in  os.listdir(positive_file_path) if file.endswith(\".jpg\")]\r\n",
                "        positive_files.sort()\r\n",
                "        negative_files=[os.path.join(negative_file_path,file) for file in  os.listdir(negative_file_path) if file.endswith(\".jpg\")]\r\n",
                "        negative_files.sort()\r\n",
                "\r\n",
                "        number_of_samples=len(positive_files)+len(negative_files)\r\n",
                "        self.all_files = [None] * number_of_samples\r\n",
                "        self.all_files[::2] = positive_files\r\n",
                "        self.all_files[1::2] = negative_files\r\n",
                "\r\n",
                "        # transform will be used on image\r\n",
                "        self.transform = transform\r\n",
                "        self.Y = torch.zeros([number_of_samples]).type(torch.LongTensor)\r\n",
                "        self.Y[::2] = 1\r\n",
                "        self.Y[1::2] = 0\r\n",
                "\r\n",
                "        if train:\r\n",
                "            self.all_files = self.all_files[0:30000]\r\n",
                "            self.Y = self.Y[0:30000]\r\n",
                "            self.len = len(self.all_files)\r\n",
                "        else:\r\n",
                "            self.all_files = self.all_files[30000:]\r\n",
                "            self.Y = self.Y[30000:]\r\n",
                "            self.len = len(self.all_files)\r\n",
                "        \r\n",
                "    # Get the length\r\n",
                "    def __len__(self):\r\n",
                "        return self.len\r\n",
                "    \r\n",
                "    # Getter\r\n",
                "    def __getitem__(self, idx):\r\n",
                "        image = Image.open(self.all_files[idx])\r\n",
                "        y = self.Y[idx]\r\n",
                "\r\n",
                "        # if there is transform, apply it on image\r\n",
                "        if self.transform:\r\n",
                "            image = self.transform(image)\r\n",
                "        \r\n",
                "        return image, y"
            ],
            "outputs": [],
            "metadata": {}
        },
        {
            "cell_type": "markdown",
            "source": [
                "# Transform Object and Dataset Object"
            ],
            "metadata": {}
        },
        {
            "cell_type": "code",
            "execution_count": 3,
            "source": [
                "mean = [0.485, 0.456, 0.406]\r\n",
                "std = [0.229, 0.224, 0.225]\r\n",
                "\r\n",
                "transform = transforms.Compose([transforms.ToTensor(), transforms.Normalize(mean, std)])"
            ],
            "outputs": [],
            "metadata": {}
        },
        {
            "cell_type": "code",
            "execution_count": 4,
            "source": [
                "dataset_train = Dataset(transform=transform, train=True)\r\n",
                "dataset_val = Dataset(transform=transform, train=False)"
            ],
            "outputs": [],
            "metadata": {}
        },
        {
            "cell_type": "code",
            "execution_count": 5,
            "source": [
                "dataset_train[0][0].shape"
            ],
            "outputs": [
                {
                    "output_type": "execute_result",
                    "data": {
                        "text/plain": [
                            "torch.Size([3, 227, 227])"
                        ]
                    },
                    "metadata": {},
                    "execution_count": 5
                }
            ],
            "metadata": {}
        },
        {
            "cell_type": "code",
            "execution_count": 6,
            "source": [
                "# image with 3 channels of size 277*277 pixels\r\n",
                "size_of_image = 3*227*227\r\n",
                "size_of_image"
            ],
            "outputs": [
                {
                    "output_type": "execute_result",
                    "data": {
                        "text/plain": [
                            "154587"
                        ]
                    },
                    "metadata": {},
                    "execution_count": 6
                }
            ],
            "metadata": {}
        },
        {
            "cell_type": "markdown",
            "source": [
                "<b> Create a custom module for Softmax for two classes,called model. The input size should be the <code>size_of_image</code>, you should record the maximum accuracy achieved on the validation data for the different epochs. For example if the 5 epochs the accuracy was 0.5, 0.2, 0.64,0.77, 0.66 you would select 0.77.</b>"
            ],
            "metadata": {}
        },
        {
            "cell_type": "code",
            "execution_count": 7,
            "source": [
                "learning_rate = 0.1\r\n",
                "momentum = 0.1\r\n",
                "batch_size = 1000\r\n",
                "epochs = 5\r\n",
                "torch.manual_seed(0)\r\n"
            ],
            "outputs": [
                {
                    "output_type": "execute_result",
                    "data": {
                        "text/plain": [
                            "<torch._C.Generator at 0xa1b0cd0>"
                        ]
                    },
                    "metadata": {},
                    "execution_count": 7
                }
            ],
            "metadata": {}
        },
        {
            "cell_type": "code",
            "execution_count": 8,
            "source": [
                "class SoftMax(nn.Module):\r\n",
                "\r\n",
                "    # Constructor\r\n",
                "    def __init__(self, input_size, output_size):\r\n",
                "        super(SoftMax, self).__init__()\r\n",
                "        self.linear = nn.Linear(input_size, output_size)\r\n",
                "    \r\n",
                "    # Prediction\r\n",
                "    def forward(self, x):\r\n",
                "        z = self.linear(x)\r\n",
                "        return z"
            ],
            "outputs": [],
            "metadata": {}
        },
        {
            "cell_type": "code",
            "execution_count": 43,
            "source": [],
            "outputs": [],
            "metadata": {}
        },
        {
            "cell_type": "markdown",
            "source": [
                "# Check GPU"
            ],
            "metadata": {}
        },
        {
            "cell_type": "code",
            "execution_count": 9,
            "source": [
                "torch.cuda.is_available()\r\n",
                "torch.cuda.empty_cache()"
            ],
            "outputs": [],
            "metadata": {}
        },
        {
            "cell_type": "code",
            "execution_count": 10,
            "source": [
                "# create a device\r\n",
                "device = torch.device('cuda:0')\r\n",
                "device"
            ],
            "outputs": [
                {
                    "output_type": "execute_result",
                    "data": {
                        "text/plain": [
                            "device(type='cuda', index=0)"
                        ]
                    },
                    "metadata": {},
                    "execution_count": 10
                }
            ],
            "metadata": {}
        },
        {
            "cell_type": "code",
            "execution_count": 11,
            "source": [
                "# train the model\r\n",
                "loss_list = []\r\n",
                "accuracy_list = []\r\n",
                "N_test = len(dataset_val)\r\n",
                "batch_size = 100\r\n",
                "\r\n",
                "model = SoftMax(size_of_image, 2)\r\n",
                "optimizer = torch.optim.SGD(model.parameters(), lr=learning_rate,momentum=momentum)\r\n",
                "criterion = nn.CrossEntropyLoss()\r\n",
                "train_loader = DataLoader(dataset=dataset_train, batch_size=batch_size)\r\n",
                "val_loader = DataLoader(dataset=dataset_val, batch_size=batch_size)\r\n",
                "\r\n",
                "model.to(device)\r\n",
                "\r\n",
                "def train_model(n_epochs):\r\n",
                "    for epoch in range(n_epochs):\r\n",
                "        for x, y in train_loader:\r\n",
                "            x, y = x.to(device), y.to(device)  # using GPU for training\r\n",
                "            optimizer.zero_grad()\r\n",
                "            z = model(x.view(-1, size_of_image))\r\n",
                "            loss = criterion(z, y)\r\n",
                "            loss.backward()\r\n",
                "            optimizer.step()\r\n",
                "\r\n",
                "        correct = 0\r\n",
                "        for x_test, y_test in val_loader:\r\n",
                "            x_test, y_test = x_test.to(device), y_test.to(device) # using GPU\r\n",
                "            z = model(x_test.view(-1, size_of_image))\r\n",
                "            _, yhat = torch.max(z.data, 1)\r\n",
                "            correct += (yhat == y_test).sum().item()\r\n",
                "\r\n",
                "        accuracy = correct / N_test\r\n",
                "        loss_list.append(loss.data)\r\n",
                "        accuracy_list.append(accuracy)\r\n",
                "\r\n",
                "train_model(epochs)"
            ],
            "outputs": [],
            "metadata": {}
        },
        {
            "cell_type": "code",
            "execution_count": 13,
            "source": [
                "# Plot the accuracy\r\n",
                "\r\n",
                "fig, ax1 = plt.subplots()\r\n",
                "color = 'tab:red'\r\n",
                "#ax1.plot(loss_list, color=color)\r\n",
                "ax1.set_xlabel('epoch', color=color)\r\n",
                "ax1.set_ylabel('Cost', color=color)\r\n",
                "ax1.tick_params(axis='y', color=color)\r\n",
                "    \r\n",
                "ax2 = ax1.twinx()  \r\n",
                "color = 'tab:blue'\r\n",
                "ax2.set_ylabel('accuracy', color=color) \r\n",
                "ax2.set_xlabel('epoch', color=color)\r\n",
                "ax2.plot( accuracy_list, color=color)\r\n",
                "ax2.tick_params(axis='y', color=color)\r\n",
                "fig.tight_layout()"
            ],
            "outputs": [
                {
                    "output_type": "display_data",
                    "data": {
                        "text/plain": [
                            "<Figure size 432x288 with 2 Axes>"
                        ],
                        "image/png": "[encoded data removed]"
                    },
                    "metadata": {
                        "needs_background": "light"
                    }
                }
            ],
            "metadata": {}
        },
        {
            "cell_type": "code",
            "execution_count": null,
            "source": [],
            "outputs": [],
            "metadata": {}
        }
    ],
    "metadata": {
        "orig_nbformat": 4,
        "language_info": {
            "name": "python",
            "version": "3.8.8",
            "mimetype": "text/x-python",
            "codemirror_mode": {
                "name": "ipython",
                "version": 3
            },
            "pygments_lexer": "ipython3",
            "nbconvert_exporter": "python",
            "file_extension": ".py"
        },
        "kernelspec": {
            "name": "python3",
            "display_name": "Python 3.8.8 64-bit ('base': conda)"
        },
        "interpreter": {
            "hash": "c0f70214c0dd213f07f54ee5d6e0ea644bdbba35113c9bfe8aaa0d1db03ad5dd"
        }
    },
    "nbformat": 4,
    "nbformat_minor": 2
}